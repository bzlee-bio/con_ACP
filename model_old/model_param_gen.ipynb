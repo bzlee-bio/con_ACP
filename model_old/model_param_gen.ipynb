{
 "cells": [
  {
   "cell_type": "code",
   "execution_count": 8,
   "metadata": {},
   "outputs": [],
   "source": [
    "import json\n",
    "import copy"
   ]
  },
  {
   "attachments": {},
   "cell_type": "markdown",
   "metadata": {},
   "source": [
    "# LSTM"
   ]
  },
  {
   "cell_type": "code",
   "execution_count": 14,
   "metadata": {},
   "outputs": [],
   "source": [
    "param_list = {\n",
    "    \"emb_dim\": [64, 128],\n",
    "    \"n_hidden\": [16, 32, 64, 128],\n",
    "    \"n_RNN_layers\": [1, 3, 5],\n",
    "    \"bidirectional\": [True],\n",
    "    \"model\": [\"lstm\"],\n",
    "}"
   ]
  },
  {
   "cell_type": "code",
   "execution_count": 15,
   "metadata": {},
   "outputs": [],
   "source": [
    "total = []\n",
    "for i, (k, vals) in enumerate(param_list.items()):\n",
    "    temp = []\n",
    "    for v in vals:\n",
    "        if i == 0:\n",
    "            temp.append({k: v})\n",
    "        else:\n",
    "            total_temp = copy.deepcopy(total)\n",
    "            for l in total_temp:\n",
    "                l[k] = v\n",
    "            temp += total_temp\n",
    "    total = temp"
   ]
  },
  {
   "cell_type": "code",
   "execution_count": 16,
   "metadata": {},
   "outputs": [],
   "source": [
    "for i in range(len(total)):\n",
    "    with open(f\"./model_params/lstm{i}.json\", \"w\") as f:\n",
    "        json.dump(total[i], f)"
   ]
  },
  {
   "attachments": {},
   "cell_type": "markdown",
   "metadata": {},
   "source": [
    "# CNN"
   ]
  },
  {
   "cell_type": "code",
   "execution_count": 8,
   "metadata": {},
   "outputs": [],
   "source": [
    "param_list = {\n",
    "    \"model\": [\"cnn1d\"],\n",
    "    \"emb_dim\": [64, 128],\n",
    "    \"num_layer\": [2, 3],\n",
    "    \"channels\": [\n",
    "        [32, 64],\n",
    "        [32, 64, 128],\n",
    "        [64, 128],\n",
    "        [64, 128, 256],\n",
    "        [128, 256],\n",
    "        [128, 256, 512],\n",
    "    ],\n",
    "}"
   ]
  },
  {
   "cell_type": "code",
   "execution_count": 9,
   "metadata": {},
   "outputs": [],
   "source": [
    "total = []\n",
    "for i, (k, vals) in enumerate(param_list.items()):\n",
    "    temp = []\n",
    "    for v in vals:\n",
    "        if i == 0:\n",
    "            temp.append({k: v})\n",
    "        else:\n",
    "            total_temp = copy.deepcopy(total)\n",
    "            for l in total_temp:\n",
    "                l[k] = v\n",
    "            temp += total_temp\n",
    "    total = temp"
   ]
  },
  {
   "cell_type": "code",
   "execution_count": 10,
   "metadata": {},
   "outputs": [],
   "source": [
    "for i in range(len(total)):\n",
    "    with open(f\"./model_params/cnn{i}.json\", \"w\") as f:\n",
    "        json.dump(total[i], f)"
   ]
  },
  {
   "attachments": {},
   "cell_type": "markdown",
   "metadata": {},
   "source": [
    "# Encoder"
   ]
  },
  {
   "cell_type": "code",
   "execution_count": 6,
   "metadata": {},
   "outputs": [],
   "source": [
    "param_list = {\n",
    "    \"emb_dim\": [64, 128],\n",
    "    \"d_ff\": [128, 256, 512],\n",
    "    \"model\": [\"encoder\"],\n",
    "    \"h\": [4, 8],\n",
    "    \"n_encoder\": [2, 4],\n",
    "}"
   ]
  },
  {
   "cell_type": "code",
   "execution_count": 7,
   "metadata": {},
   "outputs": [],
   "source": [
    "total = []\n",
    "for i, (k, vals) in enumerate(param_list.items()):\n",
    "    temp = []\n",
    "    for v in vals:\n",
    "        if i == 0:\n",
    "            temp.append({k: v})\n",
    "        else:\n",
    "            total_temp = copy.deepcopy(total)\n",
    "            for l in total_temp:\n",
    "                l[k] = v\n",
    "            temp += total_temp\n",
    "    total = temp"
   ]
  },
  {
   "attachments": {},
   "cell_type": "markdown",
   "metadata": {},
   "source": [
    "for p in total:\n",
    "    p[\"d_ff\"] = p[\"emb_dim\"] * 4"
   ]
  },
  {
   "cell_type": "code",
   "execution_count": 8,
   "metadata": {},
   "outputs": [],
   "source": [
    "for i in range(len(total)):\n",
    "    with open(f\"./model_params/encoder{i}.json\", \"w\") as f:\n",
    "        json.dump(total[i], f)"
   ]
  },
  {
   "attachments": {},
   "cell_type": "markdown",
   "metadata": {},
   "source": [
    "#### Encoder run"
   ]
  },
  {
   "attachments": {},
   "cell_type": "markdown",
   "metadata": {},
   "source": [
    "python train.py --model_info ./save/uniprot/model/encoder6_1.json --batch_size 128 --dropout_rate 0.1 --gpu 0 --lr 1e-4 --epoch 400 --scheduler False --dataset ACP2_main --val_fold 0 --load_weight True"
   ]
  },
  {
   "cell_type": "code",
   "execution_count": 9,
   "metadata": {},
   "outputs": [],
   "source": [
    "total_model_num = 4"
   ]
  },
  {
   "cell_type": "code",
   "execution_count": 43,
   "metadata": {},
   "outputs": [],
   "source": [
    "param_list1 = {\n",
    "    \"model_info\": [\n",
    "        f\"./model/model_params/encoder{i}.json\" for i in range(total_model_num)\n",
    "    ],\n",
    "    \"batch_size\": [400],\n",
    "    \"dropout_rate\": [0.0],\n",
    "    \"lr\": [0.01],\n",
    "    \"epoch\": [300],\n",
    "    \"scheduler\": [False],\n",
    "    \"dataset\": [\"uniprot\"],\n",
    "    \"val_fold\": [1],\n",
    "    # \"n_out_feat\": [20],\n",
    "    \"temp\": [0.5],\n",
    "}\n",
    "param_list2 = {\n",
    "    \"batch_size\": [64],\n",
    "    \"dropout_rate\": [0.1],\n",
    "    \"lr\": [1e-4],\n",
    "    \"scheduler\": [False],\n",
    "    \"load_weight\": [True, False],\n",
    "    \"pretrained_epoch\": [\"best\", 50, 100, 150, 200, 250, 300],\n",
    "    \"model_info\": [\n",
    "        f\"./save/uniprot/model/encoder{i}_{j}.json\"\n",
    "        for i in range(total_model_num)\n",
    "        for j in range(1, 3)\n",
    "    ],\n",
    "    \"val_fold\": list(range(10)),\n",
    "    \"epoch\": [300],\n",
    "    \"dataset\": [\n",
    "        \"ACP2_main\",\n",
    "        \"ACP_Mixed_80\",\n",
    "        \"ACP2_alter\",\n",
    "        \"LEE_Indep\",\n",
    "        \"ACP500_ACP164\",\n",
    "        \"ACP500_ACP2710\",\n",
    "    ],\n",
    "}"
   ]
  },
  {
   "cell_type": "code",
   "execution_count": 44,
   "metadata": {},
   "outputs": [],
   "source": [
    "def param_generator(param_list):\n",
    "    total = []\n",
    "    for i, (k, vals) in enumerate(param_list.items()):\n",
    "        temp = []\n",
    "        for v in vals:\n",
    "            if i == 0:\n",
    "                temp.append({k: v})\n",
    "            else:\n",
    "                total_temp = copy.deepcopy(total)\n",
    "                for l in total_temp:\n",
    "                    l[k] = v\n",
    "                temp += total_temp\n",
    "\n",
    "        total = temp\n",
    "\n",
    "    return total"
   ]
  },
  {
   "cell_type": "code",
   "execution_count": 45,
   "metadata": {},
   "outputs": [],
   "source": [
    "cmd_total1 = param_generator(param_list1)\n",
    "cmd_total2 = param_generator(param_list2)"
   ]
  },
  {
   "cell_type": "code",
   "execution_count": 46,
   "metadata": {},
   "outputs": [],
   "source": [
    "def cmd_gen(cmd_total1, cmd_total2):\n",
    "    for i, c in enumerate(cmd_total1):\n",
    "        curr_model = c[\"model_info\"].split(\"/\")[-1].replace(\".json\", \"_\")\n",
    "        temp = \" \".join([f\"--{k} {v}\" for k, v in c.items()])\n",
    "        j = i % 5\n",
    "        gpu = 0 if j == 4 else j\n",
    "        with open(f\"../script/train_{j}.txt\", \"a\") as f:\n",
    "            f.write(f\"python train.py {temp} --gpu {j}\\n\")\n",
    "            for _cmd_total2 in cmd_total2:\n",
    "                if curr_model in _cmd_total2[\"model_info\"]:\n",
    "                    if \"_1.json\" in _cmd_total2[\"model_info\"]:\n",
    "                        _cmd_total2[\"AA_tok_len\"] = 1\n",
    "                    else:\n",
    "                        _cmd_total2[\"AA_tok_len\"] = 2\n",
    "                    temp2 = \" \".join([f\"--{k} {v}\" for k, v in _cmd_total2.items()])\n",
    "                    f.write(f\"python train.py {temp2} --gpu {j}\\n\")"
   ]
  },
  {
   "cell_type": "code",
   "execution_count": 47,
   "metadata": {},
   "outputs": [],
   "source": [
    "cmd_gen(cmd_total1, cmd_total2)"
   ]
  },
  {
   "attachments": {},
   "cell_type": "markdown",
   "metadata": {},
   "source": [
    "### Single run gen"
   ]
  },
  {
   "cell_type": "code",
   "execution_count": 4,
   "metadata": {},
   "outputs": [],
   "source": [
    "param_list_cont_false = {\n",
    "    \"model_info\": [\n",
    "        f\"./model/model_params/{m}{i}.json\"\n",
    "        for m in [\"encoder\", \"cnn\", \"lstm\"]\n",
    "        for i in range(0, 24)\n",
    "    ],\n",
    "    \"batch_size\": [128],\n",
    "    \"contrastive\": [False],\n",
    "    \"dropout_rate\": [0.1],\n",
    "    \"lr\": [0.001],\n",
    "    \"epoch\": [300],\n",
    "    \"scheduler\": [False],\n",
    "    \"dataset\": [\n",
    "        \"ACP2_main\",\n",
    "        \"ACP_Mixed_80\",\n",
    "        \"ACP2_alter\",\n",
    "        \"LEE_Indep\",\n",
    "        \"ACP500_ACP164\",\n",
    "        \"ACP500_ACP2710\",\n",
    "    ],\n",
    "    \"val_fold\": list(range(10)),\n",
    "    \"AA_tok_len\": [1, 2],\n",
    "    #    \"alpha\": [0.1, 0.3, 0.5, 0.7, 0.9],\n",
    "    #    \"tgt_model\": [\"first\", \"second\", \"both\"],\n",
    "    # \"n_out_feat\": [20],\n",
    "    \"temp\": [0.5],\n",
    "}"
   ]
  },
  {
   "cell_type": "code",
   "execution_count": 10,
   "metadata": {},
   "outputs": [],
   "source": [
    "param_list1 = {\n",
    "    \"model_info\": [\n",
    "        f\"./model/model_params/{m}{i}.json\"\n",
    "        for m in [\"encoder\", \"cnn\", \"lstm\"]\n",
    "        for i in range(0, 24)\n",
    "    ],\n",
    "    \"batch_size\": [128],\n",
    "    \"contrastive\": [True],\n",
    "    \"dropout_rate\": [0.1],\n",
    "    \"lr\": [0.001],\n",
    "    \"epoch\": [300],\n",
    "    \"scheduler\": [False],\n",
    "    \"dataset\": [\n",
    "        \"ACP2_main\",\n",
    "        \"ACP_Mixed_80\",\n",
    "        \"ACP2_alter\",\n",
    "        \"LEE_Indep\",\n",
    "        \"ACP500_ACP164\",\n",
    "        \"ACP500_ACP2710\",\n",
    "    ],\n",
    "    \"val_fold\": list(range(10)),\n",
    "    \"alpha\": [0.1, 0.3, 0.5, 0.7, 0.9],\n",
    "    \"tgt_model\": [\"first\", \"second\", \"both\"],\n",
    "    # \"n_out_feat\": [20],\n",
    "    \"temp\": [0.5],\n",
    "}"
   ]
  },
  {
   "cell_type": "code",
   "execution_count": 5,
   "metadata": {},
   "outputs": [],
   "source": [
    "def param_generator(param_list):\n",
    "    total = []\n",
    "    for i, (k, vals) in enumerate(param_list.items()):\n",
    "        temp = []\n",
    "        for v in vals:\n",
    "            if i == 0:\n",
    "                temp.append({k: v})\n",
    "            else:\n",
    "                total_temp = copy.deepcopy(total)\n",
    "                for l in total_temp:\n",
    "                    l[k] = v\n",
    "                temp += total_temp\n",
    "\n",
    "        total = temp\n",
    "\n",
    "    return total"
   ]
  },
  {
   "cell_type": "code",
   "execution_count": 6,
   "metadata": {},
   "outputs": [],
   "source": [
    "def cmd_gen(cmd_total1):\n",
    "    for i, c in enumerate(cmd_total1):\n",
    "        curr_model = c[\"model_info\"].split(\"/\")[-1].replace(\".json\", \"_\")\n",
    "        temp = \" \".join([f\"--{k} {v}\" for k, v in c.items()])\n",
    "        j = i % 5\n",
    "        gpu = 0 if j == 4 else j\n",
    "        with open(f\"../script/train_tok_cont_{j}.txt\", \"a\") as f:\n",
    "            f.write(f\"python train.py {temp} --gpu {gpu}\\n\")"
   ]
  },
  {
   "cell_type": "code",
   "execution_count": 9,
   "metadata": {},
   "outputs": [],
   "source": [
    "cmd_gen(param_generator(param_list_cont_false))"
   ]
  },
  {
   "cell_type": "code",
   "execution_count": 11,
   "metadata": {},
   "outputs": [],
   "source": [
    "cmd_gen(param_generator(param_list1))"
   ]
  },
  {
   "cell_type": "code",
   "execution_count": 12,
   "metadata": {},
   "outputs": [],
   "source": [
    "import json"
   ]
  },
  {
   "cell_type": "code",
   "execution_count": 13,
   "metadata": {},
   "outputs": [],
   "source": [
    "a = {1: {2:2}}"
   ]
  },
  {
   "cell_type": "code",
   "execution_count": 14,
   "metadata": {},
   "outputs": [],
   "source": [
    "\n",
    "with open('./a.json', 'w') as f:\n",
    "    json.dump(b, f, indent=4)    "
   ]
  },
  {
   "cell_type": "code",
   "execution_count": 15,
   "metadata": {},
   "outputs": [],
   "source": [
    "with open('./a.json','r') as f:\n",
    "    b = json.load(f)"
   ]
  },
  {
   "cell_type": "code",
   "execution_count": 17,
   "metadata": {},
   "outputs": [],
   "source": [
    "b[3]={4:5}"
   ]
  },
  {
   "cell_type": "code",
   "execution_count": 18,
   "metadata": {},
   "outputs": [
    {
     "data": {
      "text/plain": [
       "{'1': {'2': 2}, 3: {4: 5}}"
      ]
     },
     "execution_count": 18,
     "metadata": {},
     "output_type": "execute_result"
    }
   ],
   "source": [
    "b"
   ]
  },
  {
   "attachments": {},
   "cell_type": "markdown",
   "metadata": {},
   "source": [
    "python train.py --model_info ./save/uniprot/model/encoder6_1.json --batch_size 128 --dropout_rate 0.1 --gpu 0 --lr 1e-4 --epoch 400 --scheduler False --dataset ACP2_main --val_fold 0 --load_weight True"
   ]
  },
  {
   "attachments": {},
   "cell_type": "markdown",
   "metadata": {},
   "source": []
  }
 ],
 "metadata": {
  "kernelspec": {
   "display_name": "torch2",
   "language": "python",
   "name": "python3"
  },
  "language_info": {
   "codemirror_mode": {
    "name": "ipython",
    "version": 3
   },
   "file_extension": ".py",
   "mimetype": "text/x-python",
   "name": "python",
   "nbconvert_exporter": "python",
   "pygments_lexer": "ipython3",
   "version": "3.10.10"
  },
  "orig_nbformat": 4
 },
 "nbformat": 4,
 "nbformat_minor": 2
}
